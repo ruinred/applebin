{
 "cells": [
  {
   "cell_type": "code",
   "execution_count": 1,
   "id": "d255ed5d",
   "metadata": {},
   "outputs": [
    {
     "name": "stdout",
     "output_type": "stream",
     "text": [
      "Welcome to python world! Let's start coding\n"
     ]
    }
   ],
   "source": [
    "print(\"Welcome to python world! Let's start coding\")\n"
   ]
  },
  {
   "cell_type": "markdown",
   "id": "99d5a4ba",
   "metadata": {},
   "source": [
    "ipynb"
   ]
  },
  {
   "cell_type": "code",
   "execution_count": null,
   "id": "aa99eb06",
   "metadata": {},
   "outputs": [],
   "source": []
  }
 ],
 "metadata": {
  "kernelspec": {
   "display_name": "Python 3",
   "language": "python",
   "name": "python3"
  },
  "language_info": {
   "codemirror_mode": {
    "name": "ipython",
    "version": 3
   },
   "file_extension": ".py",
   "mimetype": "text/x-python",
   "name": "python",
   "nbconvert_exporter": "python",
   "pygments_lexer": "ipython3",
   "version": "3.8.8"
  }
 },
 "nbformat": 4,
 "nbformat_minor": 5
}
